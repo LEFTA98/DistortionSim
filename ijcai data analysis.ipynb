{
 "cells": [
  {
   "cell_type": "code",
   "execution_count": 1,
   "metadata": {},
   "outputs": [],
   "source": [
    "import numpy as np\n",
    "import networkx as nx\n",
    "import pandas as pd\n",
    "import os\n",
    "import matplotlib.pyplot as plt"
   ]
  },
  {
   "cell_type": "markdown",
   "metadata": {},
   "source": [
    "## Step 1: Data collection"
   ]
  },
  {
   "cell_type": "code",
   "execution_count": 2,
   "metadata": {},
   "outputs": [
    {
     "data": {
      "text/plain": [
       "['C:/Users/sqshy/Desktop/University/Fifth Year/research/DistortionSim/ijcaidata/theta0.2unitrange.csv',\n",
       " 'C:/Users/sqshy/Desktop/University/Fifth Year/research/DistortionSim/ijcaidata/theta0.2unitrangefair.csv',\n",
       " 'C:/Users/sqshy/Desktop/University/Fifth Year/research/DistortionSim/ijcaidata/theta0.2unitrangemaxcard.csv',\n",
       " 'C:/Users/sqshy/Desktop/University/Fifth Year/research/DistortionSim/ijcaidata/theta0.2unitrangermax.csv',\n",
       " 'C:/Users/sqshy/Desktop/University/Fifth Year/research/DistortionSim/ijcaidata/theta0.2unitsum.csv',\n",
       " 'C:/Users/sqshy/Desktop/University/Fifth Year/research/DistortionSim/ijcaidata/theta0.2unitsumfair.csv',\n",
       " 'C:/Users/sqshy/Desktop/University/Fifth Year/research/DistortionSim/ijcaidata/theta0.2unitsummaxcard.csv',\n",
       " 'C:/Users/sqshy/Desktop/University/Fifth Year/research/DistortionSim/ijcaidata/theta0.2unitsumrmax.csv',\n",
       " 'C:/Users/sqshy/Desktop/University/Fifth Year/research/DistortionSim/ijcaidata/theta1unitrange.csv',\n",
       " 'C:/Users/sqshy/Desktop/University/Fifth Year/research/DistortionSim/ijcaidata/theta1unitrangefair.csv',\n",
       " 'C:/Users/sqshy/Desktop/University/Fifth Year/research/DistortionSim/ijcaidata/theta1unitrangemaxcard.csv',\n",
       " 'C:/Users/sqshy/Desktop/University/Fifth Year/research/DistortionSim/ijcaidata/theta1unitrangermax.csv',\n",
       " 'C:/Users/sqshy/Desktop/University/Fifth Year/research/DistortionSim/ijcaidata/theta1unitsum.csv',\n",
       " 'C:/Users/sqshy/Desktop/University/Fifth Year/research/DistortionSim/ijcaidata/theta1unitsumfair.csv',\n",
       " 'C:/Users/sqshy/Desktop/University/Fifth Year/research/DistortionSim/ijcaidata/theta1unitsummaxcard.csv',\n",
       " 'C:/Users/sqshy/Desktop/University/Fifth Year/research/DistortionSim/ijcaidata/theta1unitsumrmax.csv',\n",
       " 'C:/Users/sqshy/Desktop/University/Fifth Year/research/DistortionSim/ijcaidata/theta5unitrange.csv',\n",
       " 'C:/Users/sqshy/Desktop/University/Fifth Year/research/DistortionSim/ijcaidata/theta5unitrangefair.csv',\n",
       " 'C:/Users/sqshy/Desktop/University/Fifth Year/research/DistortionSim/ijcaidata/theta5unitrangemaxcard.csv',\n",
       " 'C:/Users/sqshy/Desktop/University/Fifth Year/research/DistortionSim/ijcaidata/theta5unitrangermax.csv',\n",
       " 'C:/Users/sqshy/Desktop/University/Fifth Year/research/DistortionSim/ijcaidata/theta5unitsum.csv',\n",
       " 'C:/Users/sqshy/Desktop/University/Fifth Year/research/DistortionSim/ijcaidata/theta5unitsumfair.csv',\n",
       " 'C:/Users/sqshy/Desktop/University/Fifth Year/research/DistortionSim/ijcaidata/theta5unitsummaxcard.csv',\n",
       " 'C:/Users/sqshy/Desktop/University/Fifth Year/research/DistortionSim/ijcaidata/theta5unitsumrmax.csv']"
      ]
     },
     "execution_count": 2,
     "metadata": {},
     "output_type": "execute_result"
    }
   ],
   "source": [
    "path = \"C:/Users/sqshy/Desktop/University/Fifth Year/research/DistortionSim/ijcaidata\"\n",
    "data_files = [path+\"/\"+item for item in os.listdir(path) if 'instances' not in item]\n",
    "\n",
    "data_files"
   ]
  },
  {
   "cell_type": "code",
   "execution_count": 3,
   "metadata": {},
   "outputs": [
    {
     "name": "stdout",
     "output_type": "stream",
     "text": [
      "C:/Users/sqshy/Desktop/University/Fifth Year/research/DistortionSim/ijcaidata/theta0.2unitrangefair.csv {'modified_max_matching fair', 'epsilon_max_matching fair0.1', 'epsilon_max_matching fair1'}\n",
      "C:/Users/sqshy/Desktop/University/Fifth Year/research/DistortionSim/ijcaidata/theta0.2unitrangemaxcard.csv {'modified_max_matching maxcard', 'epsilon_max_matching max_cardinality_rank_maximal1', 'epsilon_max_matching max_cardinality_rank_maximal0.1'}\n",
      "C:/Users/sqshy/Desktop/University/Fifth Year/research/DistortionSim/ijcaidata/theta0.2unitrangermax.csv {'epsilon_max_matching rank_maximal1', 'epsilon_max_matching rank_maximal0.1', 'modified_max_matching rmax'}\n",
      "C:/Users/sqshy/Desktop/University/Fifth Year/research/DistortionSim/ijcaidata/theta0.2unitsumfair.csv {'twothirds_max_matching fair', 'epsilon_max_matching fair0.1', 'epsilon_max_matching fair1'}\n",
      "C:/Users/sqshy/Desktop/University/Fifth Year/research/DistortionSim/ijcaidata/theta0.2unitsummaxcard.csv {'epsilon_max_matching max_cardinality_rank_maximal1', 'epsilon_max_matching max_cardinality_rank_maximal0.1', 'twothirds_max_matching max_cardinality_rank_maximal'}\n",
      "C:/Users/sqshy/Desktop/University/Fifth Year/research/DistortionSim/ijcaidata/theta0.2unitsumrmax.csv {'epsilon_max_matching rank_maximal1', 'epsilon_max_matching rank_maximal0.1', 'twothirds_max_matching rank_maximal'}\n",
      "C:/Users/sqshy/Desktop/University/Fifth Year/research/DistortionSim/ijcaidata/theta1unitrangefair.csv {'modified_max_matching fair', 'epsilon_max_matching fair0.1', 'epsilon_max_matching fair1'}\n",
      "C:/Users/sqshy/Desktop/University/Fifth Year/research/DistortionSim/ijcaidata/theta1unitrangemaxcard.csv {'modified_max_matching maxcard', 'epsilon_max_matching max_cardinality_rank_maximal1', 'epsilon_max_matching max_cardinality_rank_maximal0.1'}\n",
      "C:/Users/sqshy/Desktop/University/Fifth Year/research/DistortionSim/ijcaidata/theta1unitrangermax.csv {'epsilon_max_matching rank_maximal1', 'epsilon_max_matching rank_maximal0.1', 'modified_max_matching rmax'}\n",
      "C:/Users/sqshy/Desktop/University/Fifth Year/research/DistortionSim/ijcaidata/theta1unitsumfair.csv {'twothirds_max_matching fair', 'epsilon_max_matching fair0.1', 'epsilon_max_matching fair1'}\n",
      "C:/Users/sqshy/Desktop/University/Fifth Year/research/DistortionSim/ijcaidata/theta1unitsummaxcard.csv {'epsilon_max_matching max_cardinality_rank_maximal1', 'epsilon_max_matching max_cardinality_rank_maximal0.1', 'twothirds_max_matching max_cardinality_rank_maximal'}\n",
      "C:/Users/sqshy/Desktop/University/Fifth Year/research/DistortionSim/ijcaidata/theta1unitsumrmax.csv {'epsilon_max_matching rank_maximal1', 'epsilon_max_matching rank_maximal0.1', 'twothirds_max_matching rank_maximal'}\n",
      "C:/Users/sqshy/Desktop/University/Fifth Year/research/DistortionSim/ijcaidata/theta5unitrangefair.csv {'modified_max_matching fair', 'epsilon_max_matching fair0.1', 'epsilon_max_matching fair1'}\n",
      "C:/Users/sqshy/Desktop/University/Fifth Year/research/DistortionSim/ijcaidata/theta5unitrangemaxcard.csv {'modified_max_matching maxcard', 'epsilon_max_matching max_cardinality_rank_maximal1', 'epsilon_max_matching max_cardinality_rank_maximal0.1'}\n",
      "C:/Users/sqshy/Desktop/University/Fifth Year/research/DistortionSim/ijcaidata/theta5unitrangermax.csv {'epsilon_max_matching rank_maximal1', 'epsilon_max_matching rank_maximal0.1', 'modified_max_matching rmax'}\n",
      "C:/Users/sqshy/Desktop/University/Fifth Year/research/DistortionSim/ijcaidata/theta5unitsumfair.csv {'twothirds_max_matching fair', 'epsilon_max_matching fair0.1', 'epsilon_max_matching fair1'}\n",
      "C:/Users/sqshy/Desktop/University/Fifth Year/research/DistortionSim/ijcaidata/theta5unitsummaxcard.csv {'epsilon_max_matching max_cardinality_rank_maximal1', 'epsilon_max_matching max_cardinality_rank_maximal0.1', 'twothirds_max_matching max_cardinality_rank_maximal'}\n",
      "C:/Users/sqshy/Desktop/University/Fifth Year/research/DistortionSim/ijcaidata/theta5unitsumrmax.csv {'epsilon_max_matching rank_maximal1', 'epsilon_max_matching rank_maximal0.1', 'twothirds_max_matching rank_maximal'}\n"
     ]
    },
    {
     "data": {
      "text/html": [
       "<div>\n",
       "<style scoped>\n",
       "    .dataframe tbody tr th:only-of-type {\n",
       "        vertical-align: middle;\n",
       "    }\n",
       "\n",
       "    .dataframe tbody tr th {\n",
       "        vertical-align: top;\n",
       "    }\n",
       "\n",
       "    .dataframe thead th {\n",
       "        text-align: right;\n",
       "    }\n",
       "</style>\n",
       "<table border=\"1\" class=\"dataframe\">\n",
       "  <thead>\n",
       "    <tr style=\"text-align: right;\">\n",
       "      <th></th>\n",
       "      <th>val_index</th>\n",
       "      <th>size</th>\n",
       "      <th>valuation</th>\n",
       "      <th>algo</th>\n",
       "      <th>distortion</th>\n",
       "    </tr>\n",
       "  </thead>\n",
       "  <tbody>\n",
       "    <tr>\n",
       "      <th>500</th>\n",
       "      <td>1.0</td>\n",
       "      <td>5.0</td>\n",
       "      <td>theta0.2unitrange</td>\n",
       "      <td>epsilon_max_matching fair1</td>\n",
       "      <td>1.000000</td>\n",
       "    </tr>\n",
       "    <tr>\n",
       "      <th>501</th>\n",
       "      <td>1.0</td>\n",
       "      <td>5.0</td>\n",
       "      <td>theta0.2unitrange</td>\n",
       "      <td>epsilon_max_matching fair0.1</td>\n",
       "      <td>1.000000</td>\n",
       "    </tr>\n",
       "    <tr>\n",
       "      <th>502</th>\n",
       "      <td>1.0</td>\n",
       "      <td>5.0</td>\n",
       "      <td>theta0.2unitrange</td>\n",
       "      <td>modified_max_matching fair</td>\n",
       "      <td>2.128849</td>\n",
       "    </tr>\n",
       "    <tr>\n",
       "      <th>503</th>\n",
       "      <td>2.0</td>\n",
       "      <td>5.0</td>\n",
       "      <td>theta0.2unitrange</td>\n",
       "      <td>epsilon_max_matching fair1</td>\n",
       "      <td>1.000000</td>\n",
       "    </tr>\n",
       "    <tr>\n",
       "      <th>504</th>\n",
       "      <td>2.0</td>\n",
       "      <td>5.0</td>\n",
       "      <td>theta0.2unitrange</td>\n",
       "      <td>epsilon_max_matching fair0.1</td>\n",
       "      <td>1.000000</td>\n",
       "    </tr>\n",
       "    <tr>\n",
       "      <th>...</th>\n",
       "      <td>...</td>\n",
       "      <td>...</td>\n",
       "      <td>...</td>\n",
       "      <td>...</td>\n",
       "      <td>...</td>\n",
       "    </tr>\n",
       "    <tr>\n",
       "      <th>37995</th>\n",
       "      <td>499.0</td>\n",
       "      <td>100.0</td>\n",
       "      <td>theta5unitsum</td>\n",
       "      <td>epsilon_max_matching rank_maximal0.1</td>\n",
       "      <td>1.006841</td>\n",
       "    </tr>\n",
       "    <tr>\n",
       "      <th>37996</th>\n",
       "      <td>499.0</td>\n",
       "      <td>NaN</td>\n",
       "      <td>theta5unitsum</td>\n",
       "      <td>twothirds_max_matching rank_maximal</td>\n",
       "      <td>1.105340</td>\n",
       "    </tr>\n",
       "    <tr>\n",
       "      <th>37997</th>\n",
       "      <td>500.0</td>\n",
       "      <td>100.0</td>\n",
       "      <td>theta5unitsum</td>\n",
       "      <td>epsilon_max_matching rank_maximal1</td>\n",
       "      <td>1.080483</td>\n",
       "    </tr>\n",
       "    <tr>\n",
       "      <th>37998</th>\n",
       "      <td>500.0</td>\n",
       "      <td>100.0</td>\n",
       "      <td>theta5unitsum</td>\n",
       "      <td>epsilon_max_matching rank_maximal0.1</td>\n",
       "      <td>1.006996</td>\n",
       "    </tr>\n",
       "    <tr>\n",
       "      <th>37999</th>\n",
       "      <td>500.0</td>\n",
       "      <td>NaN</td>\n",
       "      <td>theta5unitsum</td>\n",
       "      <td>twothirds_max_matching rank_maximal</td>\n",
       "      <td>1.104455</td>\n",
       "    </tr>\n",
       "  </tbody>\n",
       "</table>\n",
       "<p>37000 rows × 5 columns</p>\n",
       "</div>"
      ],
      "text/plain": [
       "       val_index   size          valuation  \\\n",
       "500          1.0    5.0  theta0.2unitrange   \n",
       "501          1.0    5.0  theta0.2unitrange   \n",
       "502          1.0    5.0  theta0.2unitrange   \n",
       "503          2.0    5.0  theta0.2unitrange   \n",
       "504          2.0    5.0  theta0.2unitrange   \n",
       "...          ...    ...                ...   \n",
       "37995      499.0  100.0      theta5unitsum   \n",
       "37996      499.0    NaN      theta5unitsum   \n",
       "37997      500.0  100.0      theta5unitsum   \n",
       "37998      500.0  100.0      theta5unitsum   \n",
       "37999      500.0    NaN      theta5unitsum   \n",
       "\n",
       "                                       algo  distortion  \n",
       "500              epsilon_max_matching fair1    1.000000  \n",
       "501            epsilon_max_matching fair0.1    1.000000  \n",
       "502              modified_max_matching fair    2.128849  \n",
       "503              epsilon_max_matching fair1    1.000000  \n",
       "504            epsilon_max_matching fair0.1    1.000000  \n",
       "...                                     ...         ...  \n",
       "37995  epsilon_max_matching rank_maximal0.1    1.006841  \n",
       "37996   twothirds_max_matching rank_maximal    1.105340  \n",
       "37997    epsilon_max_matching rank_maximal1    1.080483  \n",
       "37998  epsilon_max_matching rank_maximal0.1    1.006996  \n",
       "37999   twothirds_max_matching rank_maximal    1.104455  \n",
       "\n",
       "[37000 rows x 5 columns]"
      ]
     },
     "execution_count": 3,
     "metadata": {},
     "output_type": "execute_result"
    }
   ],
   "source": [
    "df_list = []\n",
    "\n",
    "for item in data_files:\n",
    "    if 'fair' not in item and 'max' not in item: # filter for pareto only\n",
    "        df_list.append(pd.read_csv(item))\n",
    "    else:\n",
    "        temp_df = pd.read_csv(item)\n",
    "              \n",
    "        temp_df = temp_df[~temp_df['algo'].isin(['ttc_matching','serial_dictatorship'])]\n",
    "        \n",
    "        if 'range' in item:\n",
    "            if 'rangefair' in item:\n",
    "                to_append = 'fair'\n",
    "            elif 'rangemaxcard' in item:\n",
    "                to_append = 'maxcard'\n",
    "            elif 'rangermax' in item:\n",
    "                to_append = 'rmax'\n",
    "            \n",
    "        temp_df.loc[temp_df.algo == 'modified_max_matching', 'algo'] = 'modified_max_matching '+to_append\n",
    "        \n",
    "        print(item, set(temp_df['algo']))\n",
    "        \n",
    "        df_list.append(temp_df)\n",
    "    \n",
    "df = pd.concat(df_list)\n",
    "df.index = list(range(len(df)))\n",
    "df = df.drop(columns=['Unnamed: 0', '0','id'])\n",
    "df = df[~pd.isna(df['val_index'])]\n",
    "df"
   ]
  },
  {
   "cell_type": "code",
   "execution_count": 4,
   "metadata": {},
   "outputs": [
    {
     "data": {
      "text/html": [
       "<div>\n",
       "<style scoped>\n",
       "    .dataframe tbody tr th:only-of-type {\n",
       "        vertical-align: middle;\n",
       "    }\n",
       "\n",
       "    .dataframe tbody tr th {\n",
       "        vertical-align: top;\n",
       "    }\n",
       "\n",
       "    .dataframe thead th {\n",
       "        text-align: right;\n",
       "    }\n",
       "</style>\n",
       "<table border=\"1\" class=\"dataframe\">\n",
       "  <thead>\n",
       "    <tr style=\"text-align: right;\">\n",
       "      <th></th>\n",
       "      <th>val_index</th>\n",
       "      <th>size</th>\n",
       "      <th>valuation</th>\n",
       "      <th>algo</th>\n",
       "      <th>distortion</th>\n",
       "    </tr>\n",
       "  </thead>\n",
       "  <tbody>\n",
       "    <tr>\n",
       "      <th>500</th>\n",
       "      <td>1.0</td>\n",
       "      <td>5.0</td>\n",
       "      <td>theta0.2unitrange</td>\n",
       "      <td>epsilon_max_matching fair1</td>\n",
       "      <td>1.000000</td>\n",
       "    </tr>\n",
       "    <tr>\n",
       "      <th>501</th>\n",
       "      <td>1.0</td>\n",
       "      <td>5.0</td>\n",
       "      <td>theta0.2unitrange</td>\n",
       "      <td>epsilon_max_matching fair0.1</td>\n",
       "      <td>1.000000</td>\n",
       "    </tr>\n",
       "    <tr>\n",
       "      <th>502</th>\n",
       "      <td>1.0</td>\n",
       "      <td>5.0</td>\n",
       "      <td>theta0.2unitrange</td>\n",
       "      <td>modified_max_matching fair</td>\n",
       "      <td>2.128849</td>\n",
       "    </tr>\n",
       "    <tr>\n",
       "      <th>503</th>\n",
       "      <td>2.0</td>\n",
       "      <td>5.0</td>\n",
       "      <td>theta0.2unitrange</td>\n",
       "      <td>epsilon_max_matching fair1</td>\n",
       "      <td>1.000000</td>\n",
       "    </tr>\n",
       "    <tr>\n",
       "      <th>504</th>\n",
       "      <td>2.0</td>\n",
       "      <td>5.0</td>\n",
       "      <td>theta0.2unitrange</td>\n",
       "      <td>epsilon_max_matching fair0.1</td>\n",
       "      <td>1.000000</td>\n",
       "    </tr>\n",
       "    <tr>\n",
       "      <th>...</th>\n",
       "      <td>...</td>\n",
       "      <td>...</td>\n",
       "      <td>...</td>\n",
       "      <td>...</td>\n",
       "      <td>...</td>\n",
       "    </tr>\n",
       "    <tr>\n",
       "      <th>37995</th>\n",
       "      <td>499.0</td>\n",
       "      <td>100.0</td>\n",
       "      <td>theta5unitsum</td>\n",
       "      <td>epsilon_max_matching rank_maximal0.1</td>\n",
       "      <td>1.006841</td>\n",
       "    </tr>\n",
       "    <tr>\n",
       "      <th>37996</th>\n",
       "      <td>499.0</td>\n",
       "      <td>100.0</td>\n",
       "      <td>theta5unitsum</td>\n",
       "      <td>twothirds_max_matching rank_maximal</td>\n",
       "      <td>1.105340</td>\n",
       "    </tr>\n",
       "    <tr>\n",
       "      <th>37997</th>\n",
       "      <td>500.0</td>\n",
       "      <td>100.0</td>\n",
       "      <td>theta5unitsum</td>\n",
       "      <td>epsilon_max_matching rank_maximal1</td>\n",
       "      <td>1.080483</td>\n",
       "    </tr>\n",
       "    <tr>\n",
       "      <th>37998</th>\n",
       "      <td>500.0</td>\n",
       "      <td>100.0</td>\n",
       "      <td>theta5unitsum</td>\n",
       "      <td>epsilon_max_matching rank_maximal0.1</td>\n",
       "      <td>1.006996</td>\n",
       "    </tr>\n",
       "    <tr>\n",
       "      <th>37999</th>\n",
       "      <td>500.0</td>\n",
       "      <td>100.0</td>\n",
       "      <td>theta5unitsum</td>\n",
       "      <td>twothirds_max_matching rank_maximal</td>\n",
       "      <td>1.104455</td>\n",
       "    </tr>\n",
       "  </tbody>\n",
       "</table>\n",
       "<p>37000 rows × 5 columns</p>\n",
       "</div>"
      ],
      "text/plain": [
       "       val_index   size          valuation  \\\n",
       "500          1.0    5.0  theta0.2unitrange   \n",
       "501          1.0    5.0  theta0.2unitrange   \n",
       "502          1.0    5.0  theta0.2unitrange   \n",
       "503          2.0    5.0  theta0.2unitrange   \n",
       "504          2.0    5.0  theta0.2unitrange   \n",
       "...          ...    ...                ...   \n",
       "37995      499.0  100.0      theta5unitsum   \n",
       "37996      499.0  100.0      theta5unitsum   \n",
       "37997      500.0  100.0      theta5unitsum   \n",
       "37998      500.0  100.0      theta5unitsum   \n",
       "37999      500.0  100.0      theta5unitsum   \n",
       "\n",
       "                                       algo  distortion  \n",
       "500              epsilon_max_matching fair1    1.000000  \n",
       "501            epsilon_max_matching fair0.1    1.000000  \n",
       "502              modified_max_matching fair    2.128849  \n",
       "503              epsilon_max_matching fair1    1.000000  \n",
       "504            epsilon_max_matching fair0.1    1.000000  \n",
       "...                                     ...         ...  \n",
       "37995  epsilon_max_matching rank_maximal0.1    1.006841  \n",
       "37996   twothirds_max_matching rank_maximal    1.105340  \n",
       "37997    epsilon_max_matching rank_maximal1    1.080483  \n",
       "37998  epsilon_max_matching rank_maximal0.1    1.006996  \n",
       "37999   twothirds_max_matching rank_maximal    1.104455  \n",
       "\n",
       "[37000 rows x 5 columns]"
      ]
     },
     "execution_count": 4,
     "metadata": {},
     "output_type": "execute_result"
    }
   ],
   "source": [
    "df.loc[(df.val_index.isin(range(1,101))), 'size'] = 5.0\n",
    "df.loc[(df.val_index.isin(range(101,201))), 'size'] = 10.0\n",
    "df.loc[(df.val_index.isin(range(201,301))), 'size'] = 20.0\n",
    "df.loc[(df.val_index.isin(range(301,401))), 'size'] = 50.0\n",
    "df.loc[(df.val_index.isin(range(401,501))), 'size'] = 100.0\n",
    "df"
   ]
  },
  {
   "cell_type": "code",
   "execution_count": 5,
   "metadata": {},
   "outputs": [],
   "source": [
    "df = df[df['distortion'] > 0.99]\n",
    "algorithms = set(df['algo'])\n",
    "df_list = {}\n",
    "for algorithm in algorithms:\n",
    "    df_list[algorithm] = df[df['algo']==algorithm]"
   ]
  },
  {
   "cell_type": "code",
   "execution_count": 6,
   "metadata": {},
   "outputs": [
    {
     "data": {
      "text/plain": [
       "dict_keys(['epsilon_max_matching rank_maximal1', 'epsilon_max_matching0.1', 'epsilon_max_matching fair1', 'twothirds_max_matching rank_maximal', 'serial_dictatorship', 'modified_max_matching rmax', 'epsilon_max_matching pareto0.1', 'epsilon_max_matching max_cardinality_rank_maximal0.1', 'epsilon_max_matching rank_maximal0.1', 'twothirds_max_matching fair', 'epsilon_max_matching fair0.1', 'modified_max_matching fair', 'modified_max_matching', 'epsilon_max_matching1', 'modified_max_matching maxcard', 'epsilon_max_matching pareto1', 'epsilon_max_matching max_cardinality_rank_maximal1', 'updated_hybrid_max_matching', 'twothirds_max_matching max_cardinality_rank_maximal', 'ttc_matching'])"
      ]
     },
     "execution_count": 6,
     "metadata": {},
     "output_type": "execute_result"
    }
   ],
   "source": [
    "df_list.keys()"
   ]
  },
  {
   "cell_type": "code",
   "execution_count": 7,
   "metadata": {},
   "outputs": [
    {
     "name": "stdout",
     "output_type": "stream",
     "text": [
      "epsilon_max_matching rank_maximal1 2666\n",
      "epsilon_max_matching0.1 84\n",
      "epsilon_max_matching fair1 2332\n",
      "twothirds_max_matching rank_maximal 916\n",
      "serial_dictatorship 84\n",
      "modified_max_matching rmax 53\n",
      "epsilon_max_matching pareto0.1 55\n",
      "epsilon_max_matching max_cardinality_rank_maximal0.1 231\n",
      "epsilon_max_matching rank_maximal0.1 2287\n",
      "twothirds_max_matching fair 422\n",
      "epsilon_max_matching fair0.1 2211\n",
      "modified_max_matching fair 97\n",
      "modified_max_matching 52\n",
      "epsilon_max_matching1 84\n",
      "modified_max_matching maxcard 168\n",
      "epsilon_max_matching pareto1 81\n",
      "epsilon_max_matching max_cardinality_rank_maximal1 235\n",
      "updated_hybrid_max_matching 84\n",
      "twothirds_max_matching max_cardinality_rank_maximal 875\n",
      "ttc_matching 1564\n"
     ]
    }
   ],
   "source": [
    "for key in df_list.keys():\n",
    "    print(key, df_list[key]['distortion'].argmax())"
   ]
  },
  {
   "cell_type": "markdown",
   "metadata": {},
   "source": [
    "## Maxima and minima analysis"
   ]
  },
  {
   "cell_type": "code",
   "execution_count": 8,
   "metadata": {},
   "outputs": [
    {
     "name": "stdout",
     "output_type": "stream",
     "text": [
      "val_index                                    167\n",
      "size                                          10\n",
      "valuation                          theta5unitsum\n",
      "algo          epsilon_max_matching rank_maximal1\n",
      "distortion                               1.17324\n",
      "Name: 36998, dtype: object\n",
      "val_index                          85\n",
      "size                                5\n",
      "valuation             theta0.2unitsum\n",
      "algo          epsilon_max_matching0.1\n",
      "distortion                    3.35724\n",
      "Name: 5423, dtype: object\n",
      "val_index                            133\n",
      "size                                  10\n",
      "valuation                  theta5unitsum\n",
      "algo          epsilon_max_matching fair1\n",
      "distortion                       1.41918\n",
      "Name: 33896, dtype: object\n",
      "val_index                                     112\n",
      "size                                           10\n",
      "valuation                           theta5unitsum\n",
      "algo          twothirds_max_matching rank_maximal\n",
      "distortion                                2.32517\n",
      "Name: 36835, dtype: object\n",
      "val_index                      85\n",
      "size                            5\n",
      "valuation         theta0.2unitsum\n",
      "algo          serial_dictatorship\n",
      "distortion                3.35724\n",
      "Name: 5420, dtype: object\n",
      "val_index                             54\n",
      "size                                   5\n",
      "valuation              theta0.2unitrange\n",
      "algo          modified_max_matching rmax\n",
      "distortion                       3.28125\n",
      "Name: 3661, dtype: object\n",
      "val_index                                 59\n",
      "size                                       5\n",
      "valuation                      theta5unitsum\n",
      "algo          epsilon_max_matching pareto0.1\n",
      "distortion                           1.01599\n",
      "Name: 31293, dtype: object\n",
      "val_index                                                   232\n",
      "size                                                         20\n",
      "valuation                                     theta0.2unitrange\n",
      "algo          epsilon_max_matching max_cardinality_rank_maxi...\n",
      "distortion                                              1.19067\n",
      "Name: 2694, dtype: object\n",
      "val_index                                      288\n",
      "size                                            20\n",
      "valuation                          theta5unitrange\n",
      "algo          epsilon_max_matching rank_maximal0.1\n",
      "distortion                                 1.02754\n",
      "Name: 30362, dtype: object\n",
      "val_index                             249\n",
      "size                                   20\n",
      "valuation                   theta1unitsum\n",
      "algo          twothirds_max_matching fair\n",
      "distortion                        1.61759\n",
      "Name: 20246, dtype: object\n",
      "val_index                               12\n",
      "size                                     5\n",
      "valuation                    theta5unitsum\n",
      "algo          epsilon_max_matching fair0.1\n",
      "distortion                         1.01995\n",
      "Name: 33534, dtype: object\n",
      "val_index                             98\n",
      "size                                   5\n",
      "valuation              theta0.2unitrange\n",
      "algo          modified_max_matching fair\n",
      "distortion                       8.92216\n",
      "Name: 793, dtype: object\n",
      "val_index                        53\n",
      "size                              5\n",
      "valuation           theta5unitrange\n",
      "algo          modified_max_matching\n",
      "distortion                  1.79311\n",
      "Name: 24264, dtype: object\n",
      "val_index                        85\n",
      "size                              5\n",
      "valuation           theta0.2unitsum\n",
      "algo          epsilon_max_matching1\n",
      "distortion                  3.35724\n",
      "Name: 5422, dtype: object\n",
      "val_index                               236\n",
      "size                                     20\n",
      "valuation                 theta0.2unitrange\n",
      "algo          modified_max_matching maxcard\n",
      "distortion                          1.39445\n",
      "Name: 2707, dtype: object\n",
      "val_index                               86\n",
      "size                                     5\n",
      "valuation                    theta5unitsum\n",
      "algo          epsilon_max_matching pareto1\n",
      "distortion                         1.18122\n",
      "Name: 31427, dtype: object\n",
      "val_index                                                   236\n",
      "size                                                         20\n",
      "valuation                                     theta0.2unitrange\n",
      "algo          epsilon_max_matching max_cardinality_rank_maxi...\n",
      "distortion                                              1.28463\n",
      "Name: 2705, dtype: object\n",
      "val_index                              85\n",
      "size                                    5\n",
      "valuation                 theta0.2unitsum\n",
      "algo          updated_hybrid_max_matching\n",
      "distortion                        3.35724\n",
      "Name: 5424, dtype: object\n",
      "val_index                                                   138\n",
      "size                                                         10\n",
      "valuation                                         theta5unitsum\n",
      "algo          twothirds_max_matching max_cardinality_rank_ma...\n",
      "distortion                                              2.02584\n",
      "Name: 35413, dtype: object\n",
      "val_index                65\n",
      "size                      5\n",
      "valuation     theta5unitsum\n",
      "algo           ttc_matching\n",
      "distortion          1.96802\n",
      "Name: 31321, dtype: object\n"
     ]
    }
   ],
   "source": [
    "for (key, index) in [(key, df_list[key]['distortion'].argmax()) for key in df_list.keys()]:\n",
    "    print(df_list[key].iloc[index])"
   ]
  },
  {
   "cell_type": "code",
   "execution_count": 10,
   "metadata": {},
   "outputs": [
    {
     "name": "stdout",
     "output_type": "stream",
     "text": [
      "val_index                                    107\n",
      "size                                          10\n",
      "valuation                      theta0.2unitrange\n",
      "algo          epsilon_max_matching rank_maximal1\n",
      "distortion                                     1\n",
      "Name: 3818, dtype: object\n",
      "val_index                          76\n",
      "size                                5\n",
      "valuation             theta0.2unitsum\n",
      "algo          epsilon_max_matching0.1\n",
      "distortion                          1\n",
      "Name: 5378, dtype: object\n",
      "val_index                            233\n",
      "size                                  20\n",
      "valuation              theta0.2unitrange\n",
      "algo          epsilon_max_matching fair1\n",
      "distortion                             1\n",
      "Name: 1196, dtype: object\n",
      "val_index                                     369\n",
      "size                                           50\n",
      "valuation                         theta0.2unitsum\n",
      "algo          twothirds_max_matching rank_maximal\n",
      "distortion                               0.991983\n",
      "Name: 11606, dtype: object\n",
      "val_index                      76\n",
      "size                            5\n",
      "valuation         theta0.2unitsum\n",
      "algo          serial_dictatorship\n",
      "distortion                      1\n",
      "Name: 5375, dtype: object\n",
      "val_index                             18\n",
      "size                                   5\n",
      "valuation                theta1unitrange\n",
      "algo          modified_max_matching rmax\n",
      "distortion                             1\n",
      "Name: 15553, dtype: object\n",
      "val_index                                268\n",
      "size                                      20\n",
      "valuation                      theta5unitsum\n",
      "algo          epsilon_max_matching pareto0.1\n",
      "distortion                          0.990862\n",
      "Name: 32338, dtype: object\n",
      "val_index                                                   112\n",
      "size                                                         10\n",
      "valuation                                     theta0.2unitrange\n",
      "algo          epsilon_max_matching max_cardinality_rank_maxi...\n",
      "distortion                                                    1\n",
      "Name: 2334, dtype: object\n",
      "val_index                                      107\n",
      "size                                            10\n",
      "valuation                        theta0.2unitrange\n",
      "algo          epsilon_max_matching rank_maximal0.1\n",
      "distortion                                       1\n",
      "Name: 3819, dtype: object\n",
      "val_index                             356\n",
      "size                                   50\n",
      "valuation                 theta0.2unitsum\n",
      "algo          twothirds_max_matching fair\n",
      "distortion                        0.99151\n",
      "Name: 8567, dtype: object\n",
      "val_index                              482\n",
      "size                                   100\n",
      "valuation                  theta0.2unitsum\n",
      "algo          epsilon_max_matching fair0.1\n",
      "distortion                               1\n",
      "Name: 8944, dtype: object\n",
      "val_index                            406\n",
      "size                                 100\n",
      "valuation                theta5unitrange\n",
      "algo          modified_max_matching fair\n",
      "distortion                      0.991101\n",
      "Name: 27717, dtype: object\n",
      "val_index                        70\n",
      "size                              5\n",
      "valuation           theta5unitrange\n",
      "algo          modified_max_matching\n",
      "distortion                  1.00121\n",
      "Name: 24349, dtype: object\n",
      "val_index                        76\n",
      "size                              5\n",
      "valuation           theta0.2unitsum\n",
      "algo          epsilon_max_matching1\n",
      "distortion                        1\n",
      "Name: 5377, dtype: object\n",
      "val_index                               145\n",
      "size                                     10\n",
      "valuation                   theta5unitrange\n",
      "algo          modified_max_matching maxcard\n",
      "distortion                          0.99017\n",
      "Name: 28434, dtype: object\n",
      "val_index                              264\n",
      "size                                    20\n",
      "valuation                    theta5unitsum\n",
      "algo          epsilon_max_matching pareto1\n",
      "distortion                        0.990614\n",
      "Name: 32317, dtype: object\n",
      "val_index                                                   112\n",
      "size                                                         10\n",
      "valuation                                     theta0.2unitrange\n",
      "algo          epsilon_max_matching max_cardinality_rank_maxi...\n",
      "distortion                                                    1\n",
      "Name: 2333, dtype: object\n",
      "val_index                              76\n",
      "size                                    5\n",
      "valuation                 theta0.2unitsum\n",
      "algo          updated_hybrid_max_matching\n",
      "distortion                              1\n",
      "Name: 5379, dtype: object\n",
      "val_index                                                   126\n",
      "size                                                         10\n",
      "valuation                                       theta0.2unitsum\n",
      "algo          twothirds_max_matching max_cardinality_rank_ma...\n",
      "distortion                                             0.990518\n",
      "Name: 9377, dtype: object\n",
      "val_index                  16\n",
      "size                        5\n",
      "valuation     theta0.2unitsum\n",
      "algo             ttc_matching\n",
      "distortion                  1\n",
      "Name: 5076, dtype: object\n"
     ]
    }
   ],
   "source": [
    "for (key, index) in [(key, df_list[key]['distortion'].argmin()) for key in df_list.keys()]:\n",
    "    print(df_list[key].iloc[index])"
   ]
  },
  {
   "cell_type": "code",
   "execution_count": 15,
   "metadata": {},
   "outputs": [
    {
     "data": {
      "text/html": [
       "<div>\n",
       "<style scoped>\n",
       "    .dataframe tbody tr th:only-of-type {\n",
       "        vertical-align: middle;\n",
       "    }\n",
       "\n",
       "    .dataframe tbody tr th {\n",
       "        vertical-align: top;\n",
       "    }\n",
       "\n",
       "    .dataframe thead th {\n",
       "        text-align: right;\n",
       "    }\n",
       "</style>\n",
       "<table border=\"1\" class=\"dataframe\">\n",
       "  <thead>\n",
       "    <tr style=\"text-align: right;\">\n",
       "      <th></th>\n",
       "      <th>distortion</th>\n",
       "      <th>size</th>\n",
       "      <th>valuation</th>\n",
       "      <th>algo</th>\n",
       "    </tr>\n",
       "  </thead>\n",
       "  <tbody>\n",
       "    <tr>\n",
       "      <th>0</th>\n",
       "      <td>1.001329</td>\n",
       "      <td>5.0</td>\n",
       "      <td>theta0.2unitrange</td>\n",
       "      <td>epsilon_max_matching rank_maximal1</td>\n",
       "    </tr>\n",
       "    <tr>\n",
       "      <th>1</th>\n",
       "      <td>1.003436</td>\n",
       "      <td>5.0</td>\n",
       "      <td>theta0.2unitsum</td>\n",
       "      <td>epsilon_max_matching rank_maximal1</td>\n",
       "    </tr>\n",
       "    <tr>\n",
       "      <th>2</th>\n",
       "      <td>1.002997</td>\n",
       "      <td>5.0</td>\n",
       "      <td>theta1unitrange</td>\n",
       "      <td>epsilon_max_matching rank_maximal1</td>\n",
       "    </tr>\n",
       "    <tr>\n",
       "      <th>3</th>\n",
       "      <td>1.003821</td>\n",
       "      <td>5.0</td>\n",
       "      <td>theta1unitsum</td>\n",
       "      <td>epsilon_max_matching rank_maximal1</td>\n",
       "    </tr>\n",
       "    <tr>\n",
       "      <th>4</th>\n",
       "      <td>1.022795</td>\n",
       "      <td>5.0</td>\n",
       "      <td>theta5unitrange</td>\n",
       "      <td>epsilon_max_matching rank_maximal1</td>\n",
       "    </tr>\n",
       "    <tr>\n",
       "      <th>...</th>\n",
       "      <td>...</td>\n",
       "      <td>...</td>\n",
       "      <td>...</td>\n",
       "      <td>...</td>\n",
       "    </tr>\n",
       "    <tr>\n",
       "      <th>348</th>\n",
       "      <td>1.161191</td>\n",
       "      <td>50.0</td>\n",
       "      <td>theta5unitsum</td>\n",
       "      <td>ttc_matching</td>\n",
       "    </tr>\n",
       "    <tr>\n",
       "      <th>349</th>\n",
       "      <td>1.159802</td>\n",
       "      <td>100.0</td>\n",
       "      <td>theta0.2unitsum</td>\n",
       "      <td>ttc_matching</td>\n",
       "    </tr>\n",
       "    <tr>\n",
       "      <th>350</th>\n",
       "      <td>1.127488</td>\n",
       "      <td>100.0</td>\n",
       "      <td>theta1unitsum</td>\n",
       "      <td>ttc_matching</td>\n",
       "    </tr>\n",
       "    <tr>\n",
       "      <th>351</th>\n",
       "      <td>1.109326</td>\n",
       "      <td>100.0</td>\n",
       "      <td>theta5unitrange</td>\n",
       "      <td>ttc_matching</td>\n",
       "    </tr>\n",
       "    <tr>\n",
       "      <th>352</th>\n",
       "      <td>1.119891</td>\n",
       "      <td>100.0</td>\n",
       "      <td>theta5unitsum</td>\n",
       "      <td>ttc_matching</td>\n",
       "    </tr>\n",
       "  </tbody>\n",
       "</table>\n",
       "<p>353 rows × 4 columns</p>\n",
       "</div>"
      ],
      "text/plain": [
       "     distortion   size          valuation                                algo\n",
       "0      1.001329    5.0  theta0.2unitrange  epsilon_max_matching rank_maximal1\n",
       "1      1.003436    5.0    theta0.2unitsum  epsilon_max_matching rank_maximal1\n",
       "2      1.002997    5.0    theta1unitrange  epsilon_max_matching rank_maximal1\n",
       "3      1.003821    5.0      theta1unitsum  epsilon_max_matching rank_maximal1\n",
       "4      1.022795    5.0    theta5unitrange  epsilon_max_matching rank_maximal1\n",
       "..          ...    ...                ...                                 ...\n",
       "348    1.161191   50.0      theta5unitsum                        ttc_matching\n",
       "349    1.159802  100.0    theta0.2unitsum                        ttc_matching\n",
       "350    1.127488  100.0      theta1unitsum                        ttc_matching\n",
       "351    1.109326  100.0    theta5unitrange                        ttc_matching\n",
       "352    1.119891  100.0      theta5unitsum                        ttc_matching\n",
       "\n",
       "[353 rows x 4 columns]"
      ]
     },
     "execution_count": 15,
     "metadata": {},
     "output_type": "execute_result"
    }
   ],
   "source": [
    "templist = []\n",
    "for key in df_list.keys():\n",
    "    frame = df_list[key].groupby(['size', 'valuation']).mean()\n",
    "    frame['size'] = [item[0] for item in frame.index]\n",
    "    frame['valuation'] = [item[1] for item in frame.index]\n",
    "    frame['algo'] = [key]*len(frame)\n",
    "    frame.index = list(range(len(frame)))\n",
    "    frame = frame.drop(columns=['val_index'])\n",
    "    templist.append(frame)\n",
    "    \n",
    "df = pd.concat(templist)\n",
    "df.index = list(range(len(df)))\n",
    "df"
   ]
  },
  {
   "cell_type": "markdown",
   "metadata": {},
   "source": [
    "## Graphs of average\n"
   ]
  },
  {
   "cell_type": "markdown",
   "metadata": {},
   "source": [
    "### unit-range"
   ]
  },
  {
   "cell_type": "code",
   "execution_count": 16,
   "metadata": {},
   "outputs": [
    {
     "name": "stdout",
     "output_type": "stream",
     "text": [
      "{'epsilon_max_matching0.1', 'epsilon_max_matching fair1', 'twothirds_max_matching rank_maximal', 'serial_dictatorship', 'epsilon_max_matching max_cardinality_rank_maximal1', 'twothirds_max_matching max_cardinality_rank_maximal', 'epsilon_max_matching max_cardinality_rank_maximal0.1', 'epsilon_max_matching rank_maximal0.1', 'twothirds_max_matching fair', 'epsilon_max_matching1', 'updated_hybrid_max_matching', 'epsilon_max_matching rank_maximal1', 'ttc_matching', 'epsilon_max_matching fair0.1'}\n"
     ]
    }
   ],
   "source": [
    "curr = df[(df['valuation']=='theta0.2unitsum')]\n",
    "print(set(curr['algo']))"
   ]
  },
  {
   "cell_type": "code",
   "execution_count": 17,
   "metadata": {},
   "outputs": [
    {
     "data": {
      "text/plain": [
       "<AxesSubplot:xlabel='size'>"
      ]
     },
     "execution_count": 17,
     "metadata": {},
     "output_type": "execute_result"
    },
    {
     "data": {
      "image/png": "[encoded data removed]",
      "text/plain": [
       "<Figure size 432x288 with 1 Axes>"
      ]
     },
     "metadata": {
      "needs_background": "light"
     },
     "output_type": "display_data"
    }
   ],
   "source": [
    "curr_df = curr[curr['algo'].isin(['ttc_matching','serial_dictatorship','epsilon_max_matching1','epsilon_max_matching0.1','updated_hybrid_max_matching'])]\n",
    "curr_df = curr_df.pivot(index='size', columns = 'algo', values='distortion')\n",
    "curr_df.plot()"
   ]
  },
  {
   "cell_type": "code",
   "execution_count": 244,
   "metadata": {},
   "outputs": [
    {
     "data": {
      "text/plain": [
       "<AxesSubplot:xlabel='size'>"
      ]
     },
     "execution_count": 244,
     "metadata": {},
     "output_type": "execute_result"
    },
    {
     "data": {
      "image/png": "[encoded data removed]",
      "text/plain": [
       "<Figure size 432x288 with 1 Axes>"
      ]
     },
     "metadata": {
      "needs_background": "light"
     },
     "output_type": "display_data"
    }
   ],
   "source": [
    "curr_df = curr[curr['algo'].isin(['epsilon_max_matching fair1', 'epsilon_max_matching fair0.1', 'twothirds_max_matching fair'])]\n",
    "curr_df = curr_df.pivot(index='size', columns = 'algo', values='distortion')\n",
    "curr_df.plot()"
   ]
  },
  {
   "cell_type": "code",
   "execution_count": 245,
   "metadata": {},
   "outputs": [
    {
     "data": {
      "text/plain": [
       "<AxesSubplot:xlabel='size'>"
      ]
     },
     "execution_count": 245,
     "metadata": {},
     "output_type": "execute_result"
    },
    {
     "data": {
      "image/png": "[encoded data removed]",
      "text/plain": [
       "<Figure size 432x288 with 1 Axes>"
      ]
     },
     "metadata": {
      "needs_background": "light"
     },
     "output_type": "display_data"
    }
   ],
   "source": [
    "curr_df = curr[curr['algo'].isin(['epsilon_max_matching rank_maximal1', 'epsilon_max_matching rank_maximal0.1', 'twothirds_max_matching rank_maximal'])]\n",
    "curr_df = curr_df.pivot(index='size', columns = 'algo', values='distortion')\n",
    "curr_df.plot()"
   ]
  },
  {
   "cell_type": "code",
   "execution_count": 229,
   "metadata": {},
   "outputs": [
    {
     "data": {
      "text/plain": [
       "<AxesSubplot:xlabel='size'>"
      ]
     },
     "execution_count": 229,
     "metadata": {},
     "output_type": "execute_result"
    },
    {
     "data": {
      "image/png": "[encoded data removed]",
      "text/plain": [
       "<Figure size 432x288 with 1 Axes>"
      ]
     },
     "metadata": {
      "needs_background": "light"
     },
     "output_type": "display_data"
    }
   ],
   "source": [
    "curr_df = curr[curr['algo'].isin(['epsilon_max_matching max_cardinality_rank_maximal1', 'epsilon_max_matching max_cardinality_rank_maximal0.1', 'twothirds_max_matching max_cardinality_rank_maximal'])]\n",
    "curr_df = curr_df.pivot(index='size', columns = 'algo', values='distortion')\n",
    "curr_df.plot()"
   ]
  },
  {
   "cell_type": "code",
   "execution_count": 230,
   "metadata": {},
   "outputs": [
    {
     "data": {
      "text/plain": [
       "<AxesSubplot:xlabel='size'>"
      ]
     },
     "execution_count": 230,
     "metadata": {},
     "output_type": "execute_result"
    },
    {
     "data": {
      "image/png": "[encoded data removed]",
      "text/plain": [
       "<Figure size 1296x432 with 1 Axes>"
      ]
     },
     "metadata": {
      "needs_background": "light"
     },
     "output_type": "display_data"
    }
   ],
   "source": [
    "curr = df[(df['valuation']=='theta0.2unitsum')]\n",
    "set(curr['algo'])\n",
    "curr = curr.pivot(index='size', columns = 'algo', values='distortion')\n",
    "curr.plot(figsize=(18,6))"
   ]
  },
  {
   "cell_type": "code",
   "execution_count": null,
   "metadata": {},
   "outputs": [],
   "source": []
  }
 ],
 "metadata": {
  "kernelspec": {
   "display_name": "Python 3",
   "language": "python",
   "name": "python3"
  },
  "language_info": {
   "codemirror_mode": {
    "name": "ipython",
    "version": 3
   },
   "file_extension": ".py",
   "mimetype": "text/x-python",
   "name": "python",
   "nbconvert_exporter": "python",
   "pygments_lexer": "ipython3",
   "version": "3.7.9"
  }
 },
 "nbformat": 4,
 "nbformat_minor": 4
}
